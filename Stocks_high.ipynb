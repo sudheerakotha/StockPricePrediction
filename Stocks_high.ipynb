{
  "nbformat": 4,
  "nbformat_minor": 0,
  "metadata": {
    "colab": {
      "provenance": []
    },
    "kernelspec": {
      "name": "python3",
      "display_name": "Python 3"
    },
    "language_info": {
      "name": "python"
    }
  },
  "cells": [
    {
      "cell_type": "code",
      "execution_count": 77,
      "metadata": {
        "id": "zgeF86kj3GmJ"
      },
      "outputs": [],
      "source": [
        "import numpy as np\n",
        "import pandas as pd\n",
        "\n",
        "import os\n",
        "import matplotlib.pyplot as plt\n",
        "import pandas_datareader as web\n",
        "import datetime as dt\n",
        "\n",
        "from sklearn.preprocessing import MinMaxScaler\n",
        "from tensorflow.keras.models import Sequential\n",
        "from tensorflow.keras.layers import Dense, Dropout, LSTM\n",
        "from tensorflow.keras.callbacks import ModelCheckpoint, EarlyStopping"
      ]
    },
    {
      "cell_type": "code",
      "source": [
        "import pandas as pd\n",
        "\n",
        "# Step 1: Read the input CSV file into a pandas DataFrame\n",
        "input_file = '/content/GOOG.csv'  # Replace with your actual input file path\n",
        "df = pd.read_csv(input_file)\n",
        "\n",
        "# Step 2: Convert 'date' column to datetime format if it's not already\n",
        "df['date'] = pd.to_datetime(df['date'])\n",
        "\n",
        "# Step 3: Set 'date' column as the index of the DataFrame (required for interpolation)\n",
        "df.set_index('date', inplace=True)\n",
        "\n",
        "# Step 4: Resample to 1-hour intervals and interpolate missing values\n",
        "df_interpolated = df.resample('1H').interpolate(method='linear')\n",
        "\n",
        "# Step 5: Reset index to convert 'date' back to a column\n",
        "df_interpolated.reset_index(inplace=True)\n",
        "\n",
        "# Step 6: Save the interpolated data to a new CSV file\n",
        "output_file = 'interpolated_data_1_hour.csv'  # Replace with your desired output file path\n",
        "df_interpolated.to_csv(output_file, index=False)\n",
        "\n",
        "print(f\"Interpolated data saved to {output_file}\")\n"
      ],
      "metadata": {
        "colab": {
          "base_uri": "https://localhost:8080/"
        },
        "id": "fmP0M2nI3Oc9",
        "outputId": "72dba97d-7441-4d29-d598-322774ec0d53"
      },
      "execution_count": 78,
      "outputs": [
        {
          "output_type": "stream",
          "name": "stdout",
          "text": [
            "Interpolated data saved to interpolated_data_1_hour.csv\n"
          ]
        }
      ]
    },
    {
      "cell_type": "code",
      "source": [
        "df = pd.read_csv('/content/interpolated_data_1_hour.csv', parse_dates=['date'])\n",
        "print(df)"
      ],
      "metadata": {
        "colab": {
          "base_uri": "https://localhost:8080/"
        },
        "id": "pM8qUALV3RFK",
        "outputId": "afe75af5-5116-4edd-a820-b1d455ae1d1e"
      },
      "execution_count": 79,
      "outputs": [
        {
          "output_type": "stream",
          "name": "stdout",
          "text": [
            "                           date symbol        close         high          low  \\\n",
            "0     2016-06-14 00:00:00+00:00   GOOG   718.270000   722.470000   713.120000   \n",
            "1     2016-06-14 01:00:00+00:00    NaN   718.297083   722.491250   713.294583   \n",
            "2     2016-06-14 02:00:00+00:00    NaN   718.324167   722.512500   713.469167   \n",
            "3     2016-06-14 03:00:00+00:00    NaN   718.351250   722.533750   713.643750   \n",
            "4     2016-06-14 04:00:00+00:00    NaN   718.378333   722.555000   713.818333   \n",
            "...                         ...    ...          ...          ...          ...   \n",
            "43748 2021-06-10 20:00:00+00:00    NaN  2515.208333  2526.368333  2497.575000   \n",
            "43749 2021-06-10 21:00:00+00:00    NaN  2514.888750  2526.523750  2497.753750   \n",
            "43750 2021-06-10 22:00:00+00:00    NaN  2514.569167  2526.679167  2497.932500   \n",
            "43751 2021-06-10 23:00:00+00:00    NaN  2514.249583  2526.834583  2498.111250   \n",
            "43752 2021-06-11 00:00:00+00:00   GOOG  2513.930000  2526.990000  2498.290000   \n",
            "\n",
            "              open     volume     adjClose      adjHigh       adjLow  \\\n",
            "0       716.480000  1306065.0   718.270000   722.470000   713.120000   \n",
            "1       716.585000  1302250.5   718.297083   722.491250   713.294583   \n",
            "2       716.690000  1298436.0   718.324167   722.512500   713.469167   \n",
            "3       716.795000  1294621.5   718.351250   722.533750   713.643750   \n",
            "4       716.900000  1290807.0   718.378333   722.555000   713.818333   \n",
            "...            ...        ...          ...          ...          ...   \n",
            "43748  2519.768333  1312213.0  2515.208333  2526.368333  2497.575000   \n",
            "43749  2521.056250  1299737.0  2514.888750  2526.523750  2497.753750   \n",
            "43750  2522.344167  1287261.0  2514.569167  2526.679167  2497.932500   \n",
            "43751  2523.632083  1274785.0  2514.249583  2526.834583  2498.111250   \n",
            "43752  2524.920000  1262309.0  2513.930000  2526.990000  2498.290000   \n",
            "\n",
            "           adjOpen  adjVolume  divCash  splitFactor  \n",
            "0       716.480000  1306065.0      0.0          1.0  \n",
            "1       716.585000  1302250.5      0.0          1.0  \n",
            "2       716.690000  1298436.0      0.0          1.0  \n",
            "3       716.795000  1294621.5      0.0          1.0  \n",
            "4       716.900000  1290807.0      0.0          1.0  \n",
            "...            ...        ...      ...          ...  \n",
            "43748  2519.768333  1312213.0      0.0          1.0  \n",
            "43749  2521.056250  1299737.0      0.0          1.0  \n",
            "43750  2522.344167  1287261.0      0.0          1.0  \n",
            "43751  2523.632083  1274785.0      0.0          1.0  \n",
            "43752  2524.920000  1262309.0      0.0          1.0  \n",
            "\n",
            "[43753 rows x 14 columns]\n"
          ]
        }
      ]
    },
    {
      "cell_type": "code",
      "source": [
        "test_data = scaled_data[-prediction_days:]  # Take the last 'prediction_days' as test data\n",
        "x_test = []\n",
        "y_test = []\n",
        "\n",
        "# Iterate over the test data correctly\n",
        "for x in range(prediction_days, len(scaled_data)):\n",
        "    x_test.append(scaled_data[x-prediction_days:x, :])\n",
        "    y_test.append(scaled_data[x, :])"
      ],
      "metadata": {
        "id": "OIlYnDg295fp"
      },
      "execution_count": 80,
      "outputs": []
    },
    {
      "cell_type": "code",
      "source": [
        "def load_data(company, start, end):\n",
        "\n",
        "    dataframe = df.copy()\n",
        "    if 'Symbol' in dataframe.columns:\n",
        "        dataframe = dataframe.loc[dataframe.Symbol == company, :]\n",
        "    else:\n",
        "        print(\"Warning: 'Symbol' column not found in DataFrame. Returning the entire DataFrame.\")\n",
        "    # The following line caused the error, it's been commented out\n",
        "    # dataframe = dataframe.loc[dataframe.Name == company, :]\n",
        "    # Convert start and end to timezone-aware datetime objects, assuming 'date' column is in UTC\n",
        "    start = pd.Timestamp(start).tz_localize('UTC')\n",
        "    end = pd.Timestamp(end).tz_localize('UTC')\n",
        "    dataframe = dataframe.loc[(dataframe['date'] > start) & (dataframe['date'] < end), :]\n",
        "    dataframe = dataframe.rename(columns = {'Closing_Price': 'close'})\n",
        "    return dataframe"
      ],
      "metadata": {
        "id": "gzW-khu_qzVM"
      },
      "execution_count": 81,
      "outputs": []
    },
    {
      "cell_type": "code",
      "source": [
        "import pandas as pd\n",
        "import datetime as dt\n",
        "\n",
        "def load_data(company, start, end):\n",
        "    # Load the data\n",
        "    dataframe = pd.read_csv('/content/interpolated_data_1_hour.csv') # Verify this file path\n",
        "\n",
        "    # Check if 'date' column exists and is in datetime format\n",
        "    if 'date' in dataframe.columns:\n",
        "        dataframe['date'] = pd.to_datetime(dataframe['date'])\n",
        "    else:\n",
        "        print(\"Error: 'date' column not found in DataFrame.\")\n",
        "        return None  # Handle the error appropriately\n",
        "\n",
        "    # Filter data based on start and end dates\n",
        "    start = pd.Timestamp(start).tz_localize('UTC')\n",
        "    end = pd.Timestamp(end).tz_localize('UTC')\n",
        "    dataframe = dataframe.loc[(dataframe['date'] > start) & (dataframe['date'] < end), :]\n",
        "\n",
        "    # Rename 'Closing_Price' column to 'close' if it exists\n",
        "    if 'Closing_Price' in dataframe.columns:\n",
        "        dataframe = dataframe.rename(columns = {'Closing_Price': 'high'})\n",
        "\n",
        "    return dataframe\n",
        "\n",
        "COMPANY = 'GOOG'\n",
        "START_DATE = dt.datetime(2016,1,1,0,0)\n",
        "END_DATE = dt.datetime(2021,1,1,0,0)\n",
        "\n",
        "START_DATE_TEST = END_DATE\n",
        "data = load_data(company = COMPANY,\n",
        "                 start = START_DATE,\n",
        "                 end = END_DATE)\n",
        "\n",
        "print(data.head()) # Print the first few rows to verify data"
      ],
      "metadata": {
        "colab": {
          "base_uri": "https://localhost:8080/"
        },
        "id": "HmW9zm4e-Abw",
        "outputId": "29ecdd63-c9c4-4015-8e2f-d9953816ed4b"
      },
      "execution_count": 82,
      "outputs": [
        {
          "output_type": "stream",
          "name": "stdout",
          "text": [
            "                       date symbol       close       high         low  \\\n",
            "0 2016-06-14 00:00:00+00:00   GOOG  718.270000  722.47000  713.120000   \n",
            "1 2016-06-14 01:00:00+00:00    NaN  718.297083  722.49125  713.294583   \n",
            "2 2016-06-14 02:00:00+00:00    NaN  718.324167  722.51250  713.469167   \n",
            "3 2016-06-14 03:00:00+00:00    NaN  718.351250  722.53375  713.643750   \n",
            "4 2016-06-14 04:00:00+00:00    NaN  718.378333  722.55500  713.818333   \n",
            "\n",
            "      open     volume    adjClose    adjHigh      adjLow  adjOpen  adjVolume  \\\n",
            "0  716.480  1306065.0  718.270000  722.47000  713.120000  716.480  1306065.0   \n",
            "1  716.585  1302250.5  718.297083  722.49125  713.294583  716.585  1302250.5   \n",
            "2  716.690  1298436.0  718.324167  722.51250  713.469167  716.690  1298436.0   \n",
            "3  716.795  1294621.5  718.351250  722.53375  713.643750  716.795  1294621.5   \n",
            "4  716.900  1290807.0  718.378333  722.55500  713.818333  716.900  1290807.0   \n",
            "\n",
            "   divCash  splitFactor  \n",
            "0      0.0          1.0  \n",
            "1      0.0          1.0  \n",
            "2      0.0          1.0  \n",
            "3      0.0          1.0  \n",
            "4      0.0          1.0  \n"
          ]
        }
      ]
    },
    {
      "cell_type": "code",
      "source": [
        "# Normalize data\n",
        "scaler = MinMaxScaler(feature_range=(0,1))\n",
        "scaled_data = scaler.fit_transform(data['high'].values.reshape(-1,1))"
      ],
      "metadata": {
        "id": "41jNxOQoF7iD"
      },
      "execution_count": 83,
      "outputs": []
    },
    {
      "cell_type": "code",
      "source": [
        "# Set the number of days used for prediction\n",
        "prediction_days = 60\n",
        "\n",
        "# Initialize empty lists for training data input and output\n",
        "x_train = []\n",
        "y_train = []\n",
        "\n",
        "# Iterate through the scaled data, starting from the prediction_days index\n",
        "for x in range(prediction_days, len(scaled_data)):\n",
        "    # Append the previous 'prediction_days' values to x_train\n",
        "    x_train.append(scaled_data[x - prediction_days:x, 0])\n",
        "    # Append the current value to y_train\n",
        "    y_train.append(scaled_data[x, 0])\n",
        "\n",
        "# Convert the x_train and y_train lists to numpy arrays\n",
        "x_train, y_train = np.array(x_train), np.array(y_train)\n",
        "\n",
        "# Reshape x_train to a 3D array with the appropriate dimensions for the LSTM model\n",
        "x_train = np.reshape(x_train, (x_train.shape[0], x_train.shape[1], 1))"
      ],
      "metadata": {
        "id": "IuKajSKmF-2b"
      },
      "execution_count": 85,
      "outputs": []
    },
    {
      "cell_type": "code",
      "source": [
        "from keras.models import Sequential\n",
        "from keras.layers import LSTM, Dense, BatchNormalization\n",
        "from keras.regularizers import L2\n",
        "\n",
        "def LSTM_model():\n",
        "    \"\"\"\n",
        "    Create and configure an LSTM model for stock price prediction.\n",
        "\n",
        "    :return: The configured LSTM model (keras.Sequential)\n",
        "    \"\"\"\n",
        "\n",
        "    # Initialize a sequential model\n",
        "    model = Sequential()\n",
        "\n",
        "    # Add the first LSTM layer with 50 units, input shape, return sequences, and L2 regularization\n",
        "    model.add(LSTM(units=50, return_sequences=True, input_shape=(x_train.shape[1], 1), kernel_regularizer=L2(0.01)))\n",
        "    model.add(BatchNormalization())\n",
        "\n",
        "    # Add a second LSTM layer with 50 units, return sequences, and L2 regularization\n",
        "    model.add(LSTM(units=50, return_sequences=True, kernel_regularizer=L2(0.01)))\n",
        "    model.add(BatchNormalization())\n",
        "\n",
        "    # Add a third LSTM layer with 50 units and L2 regularization\n",
        "    model.add(LSTM(units=50, kernel_regularizer=L2(0.01)))\n",
        "    model.add(BatchNormalization())\n",
        "\n",
        "    # Add a dense output layer with one unit\n",
        "    model.add(Dense(units=1))\n",
        "\n",
        "    return model"
      ],
      "metadata": {
        "id": "66sGxF1xGBVr"
      },
      "execution_count": 86,
      "outputs": []
    },
    {
      "cell_type": "code",
      "source": [
        "model = LSTM_model()\n",
        "model.summary()\n",
        "model.compile(\n",
        "    optimizer='adam',\n",
        "    loss='mean_squared_error'\n",
        ")"
      ],
      "metadata": {
        "colab": {
          "base_uri": "https://localhost:8080/"
        },
        "id": "Ad2k2SxgGEcb",
        "outputId": "0a43e331-03b2-4e6b-eb95-3d5af49f4c7a"
      },
      "execution_count": 87,
      "outputs": [
        {
          "output_type": "stream",
          "name": "stdout",
          "text": [
            "Model: \"sequential_11\"\n",
            "_________________________________________________________________\n",
            " Layer (type)                Output Shape              Param #   \n",
            "=================================================================\n",
            " lstm_31 (LSTM)              (None, 60, 50)            10400     \n",
            "                                                                 \n",
            " batch_normalization_9 (Bat  (None, 60, 50)            200       \n",
            " chNormalization)                                                \n",
            "                                                                 \n",
            " lstm_32 (LSTM)              (None, 60, 50)            20200     \n",
            "                                                                 \n",
            " batch_normalization_10 (Ba  (None, 60, 50)            200       \n",
            " tchNormalization)                                               \n",
            "                                                                 \n",
            " lstm_33 (LSTM)              (None, 50)                20200     \n",
            "                                                                 \n",
            " batch_normalization_11 (Ba  (None, 50)                200       \n",
            " tchNormalization)                                               \n",
            "                                                                 \n",
            " dense_13 (Dense)            (None, 1)                 51        \n",
            "                                                                 \n",
            "=================================================================\n",
            "Total params: 51451 (200.98 KB)\n",
            "Trainable params: 51151 (199.81 KB)\n",
            "Non-trainable params: 300 (1.17 KB)\n",
            "_________________________________________________________________\n"
          ]
        }
      ]
    },
    {
      "cell_type": "code",
      "source": [
        "# Callbacks\n",
        "\n",
        "# Save weights only for best model\n",
        "checkpointer = ModelCheckpoint(\n",
        "    filepath = 'weights_best.hdf5',\n",
        "    verbose = 2,\n",
        "    save_best_only = True\n",
        ")\n",
        "\n",
        "model.fit(\n",
        "    x_train,\n",
        "    y_train,\n",
        "    epochs=10,\n",
        "    batch_size = 32,\n",
        "    callbacks = [checkpointer]\n",
        ")"
      ],
      "metadata": {
        "colab": {
          "base_uri": "https://localhost:8080/"
        },
        "id": "U3L2mMyxGG4s",
        "outputId": "78ce76e7-203b-43d6-b37d-2c1a00c58d21"
      },
      "execution_count": 88,
      "outputs": [
        {
          "metadata": {
            "tags": null
          },
          "name": "stdout",
          "output_type": "stream",
          "text": [
            "Epoch 1/10\n",
            "1245/1245 [==============================] - ETA: 0s - loss: 0.5432"
          ]
        },
        {
          "metadata": {
            "tags": null
          },
          "name": "stderr",
          "output_type": "stream",
          "text": [
            "WARNING:tensorflow:Can save best model only with val_loss available, skipping.\n"
          ]
        },
        {
          "metadata": {
            "tags": null
          },
          "name": "stdout",
          "output_type": "stream",
          "text": [
            "1245/1245 [==============================] - 189s 143ms/step - loss: 0.5432\n",
            "Epoch 2/10\n",
            "1245/1245 [==============================] - ETA: 0s - loss: 0.0767"
          ]
        },
        {
          "metadata": {
            "tags": null
          },
          "name": "stderr",
          "output_type": "stream",
          "text": [
            "WARNING:tensorflow:Can save best model only with val_loss available, skipping.\n"
          ]
        },
        {
          "metadata": {
            "tags": null
          },
          "name": "stdout",
          "output_type": "stream",
          "text": [
            "1245/1245 [==============================] - 158s 127ms/step - loss: 0.0767\n",
            "Epoch 3/10\n",
            "1245/1245 [==============================] - ETA: 0s - loss: 0.0226"
          ]
        },
        {
          "metadata": {
            "tags": null
          },
          "name": "stderr",
          "output_type": "stream",
          "text": [
            "WARNING:tensorflow:Can save best model only with val_loss available, skipping.\n"
          ]
        },
        {
          "metadata": {
            "tags": null
          },
          "name": "stdout",
          "output_type": "stream",
          "text": [
            "1245/1245 [==============================] - 163s 131ms/step - loss: 0.0226\n",
            "Epoch 4/10\n",
            "1245/1245 [==============================] - ETA: 0s - loss: 0.0074"
          ]
        },
        {
          "metadata": {
            "tags": null
          },
          "name": "stderr",
          "output_type": "stream",
          "text": [
            "WARNING:tensorflow:Can save best model only with val_loss available, skipping.\n"
          ]
        },
        {
          "metadata": {
            "tags": null
          },
          "name": "stdout",
          "output_type": "stream",
          "text": [
            "1245/1245 [==============================] - 151s 121ms/step - loss: 0.0074\n",
            "Epoch 5/10\n",
            "1245/1245 [==============================] - ETA: 0s - loss: 0.0033"
          ]
        },
        {
          "metadata": {
            "tags": null
          },
          "name": "stderr",
          "output_type": "stream",
          "text": [
            "WARNING:tensorflow:Can save best model only with val_loss available, skipping.\n"
          ]
        },
        {
          "metadata": {
            "tags": null
          },
          "name": "stdout",
          "output_type": "stream",
          "text": [
            "1245/1245 [==============================] - 128s 103ms/step - loss: 0.0033\n",
            "Epoch 6/10\n",
            "1245/1245 [==============================] - ETA: 0s - loss: 0.0023"
          ]
        },
        {
          "metadata": {
            "tags": null
          },
          "name": "stderr",
          "output_type": "stream",
          "text": [
            "WARNING:tensorflow:Can save best model only with val_loss available, skipping.\n"
          ]
        },
        {
          "metadata": {
            "tags": null
          },
          "name": "stdout",
          "output_type": "stream",
          "text": [
            "1245/1245 [==============================] - 125s 100ms/step - loss: 0.0023\n",
            "Epoch 7/10\n",
            "1245/1245 [==============================] - ETA: 0s - loss: 0.0021"
          ]
        },
        {
          "metadata": {
            "tags": null
          },
          "name": "stderr",
          "output_type": "stream",
          "text": [
            "WARNING:tensorflow:Can save best model only with val_loss available, skipping.\n"
          ]
        },
        {
          "metadata": {
            "tags": null
          },
          "name": "stdout",
          "output_type": "stream",
          "text": [
            "1245/1245 [==============================] - 126s 101ms/step - loss: 0.0021\n",
            "Epoch 8/10\n",
            "1245/1245 [==============================] - ETA: 0s - loss: 0.0020"
          ]
        },
        {
          "metadata": {
            "tags": null
          },
          "name": "stderr",
          "output_type": "stream",
          "text": [
            "WARNING:tensorflow:Can save best model only with val_loss available, skipping.\n"
          ]
        },
        {
          "metadata": {
            "tags": null
          },
          "name": "stdout",
          "output_type": "stream",
          "text": [
            "1245/1245 [==============================] - 124s 99ms/step - loss: 0.0020\n",
            "Epoch 9/10\n",
            "1245/1245 [==============================] - ETA: 0s - loss: 0.0019"
          ]
        },
        {
          "metadata": {
            "tags": null
          },
          "name": "stderr",
          "output_type": "stream",
          "text": [
            "WARNING:tensorflow:Can save best model only with val_loss available, skipping.\n"
          ]
        },
        {
          "output_type": "stream",
          "name": "stdout",
          "text": [
            "1245/1245 [==============================] - 125s 100ms/step - loss: 0.0019\n",
            "Epoch 10/10\n",
            "1245/1245 [==============================] - ETA: 0s - loss: 0.0038"
          ]
        },
        {
          "output_type": "stream",
          "name": "stderr",
          "text": [
            "WARNING:tensorflow:Can save best model only with val_loss available, skipping.\n"
          ]
        },
        {
          "output_type": "stream",
          "name": "stdout",
          "text": [
            "\b\b\b\b\b\b\b\b\b\b\b\b\b\b\b\b\b\b\b\b\b\b\b\b\b\b\b\b\b\b\b\b\b\b\b\b\b\b\b\b\b\b\b\b\b\b\b\b\b\b\b\b\b\b\b\b\b\b\b\b\b\b\b\b\b\b\b\r1245/1245 [==============================] - 124s 99ms/step - loss: 0.0038\n"
          ]
        },
        {
          "output_type": "execute_result",
          "data": {
            "text/plain": [
              "<keras.src.callbacks.History at 0x7d1b269c6620>"
            ]
          },
          "metadata": {},
          "execution_count": 88
        }
      ]
    },
    {
      "cell_type": "code",
      "source": [
        "test_data = load_data(\n",
        "    company=COMPANY,\n",
        "    start=START_DATE_TEST,   # Load test data for the specified company and date range\n",
        "    end=dt.datetime.now()\n",
        ")\n",
        "\n",
        "actual_prices = test_data['high'].values\n",
        "\n",
        "total_dataset = pd.concat((data['high'], test_data['high']), axis=0)\n",
        "\n",
        "model_inputs = total_dataset[len(total_dataset) - len(test_data) - prediction_days:].values\n",
        "\n",
        "model_inputs = model_inputs.reshape(-1, 1)\n",
        "\n",
        "model_inputs = scaler.transform(model_inputs)"
      ],
      "metadata": {
        "id": "ST3fuWS2LzNJ"
      },
      "execution_count": 89,
      "outputs": []
    },
    {
      "cell_type": "code",
      "source": [
        "x_test = []\n",
        "\n",
        "for x in range(prediction_days, len(model_inputs)):\n",
        "\n",
        "    x_test.append(model_inputs[x-prediction_days:x, 0])\n",
        "\n",
        "x_test = np.array(x_test)  # Converting the x_test list to a numpy array\n",
        "\n",
        "x_test = np.reshape(x_test, (x_test.shape[0], x_test.shape[1], 1))\n",
        "\n",
        "predicted_prices = model.predict(x_test)  # Generate price predictions using the LSTM model\n",
        "\n",
        "predicted_prices = scaler.inverse_transform(predicted_prices)"
      ],
      "metadata": {
        "colab": {
          "base_uri": "https://localhost:8080/"
        },
        "id": "A0fjb2JWL2ZF",
        "outputId": "d564a313-a059-418e-bc8f-f71058d901b1"
      },
      "execution_count": 90,
      "outputs": [
        {
          "output_type": "stream",
          "name": "stdout",
          "text": [
            "121/121 [==============================] - 15s 85ms/step\n"
          ]
        }
      ]
    },
    {
      "cell_type": "code",
      "source": [
        "plt.plot(actual_prices, color='black', label=f\"Actual {COMPANY} price\") #1\n",
        "\n",
        "plt.plot(predicted_prices, color='green', label=f\"Predicted {COMPANY} price\") #2\n",
        "\n",
        "plt.title(f\"{COMPANY} share price\")\n",
        "plt.xlabel(\"time\")                    #3\n",
        "plt.ylabel(f\"{COMPANY} share price\")\n",
        "\n",
        "plt.legend()    #4\n",
        "plt.show()"
      ],
      "metadata": {
        "colab": {
          "base_uri": "https://localhost:8080/",
          "height": 472
        },
        "id": "VLUh-ITpMEiR",
        "outputId": "8cd2cdc0-d835-482f-e38e-962f4b8db21f"
      },
      "execution_count": 61,
      "outputs": [
        {
          "output_type": "display_data",
          "data": {
            "text/plain": [
              "<Figure size 640x480 with 1 Axes>"
            ],
            "image/png": "[encoded data removed]"
          },
          "metadata": {}
        }
      ]
    },
    {
      "cell_type": "code",
      "source": [
        "# Extract the last 'prediction_days' values from the model inputs\n",
        "real_data = [model_inputs[len(model_inputs) + 1 - prediction_days:len(model_inputs + 1), 0]]\n",
        "\n",
        "# Convert the real_data list to a numpy array\n",
        "real_data = np.array(real_data)\n",
        "\n",
        "# Reshape real_data to a 3D array with the appropriate dimensions for the LSTM model\n",
        "real_data = np.reshape(real_data, (real_data.shape[0], real_data.shape[1], 1))\n",
        "\n",
        "# Generate a prediction using the LSTM model with the real_data input\n",
        "prediction = model.predict(real_data)\n",
        "\n",
        "# Invert the scaling applied to the prediction to obtain the actual value\n",
        "prediction = scaler.inverse_transform(prediction)\n",
        "\n",
        "# Print the prediction result to the console\n",
        "print(f\"Prediction: {prediction[0][0]}\")"
      ],
      "metadata": {
        "colab": {
          "base_uri": "https://localhost:8080/"
        },
        "id": "jRlSMmb4MHTd",
        "outputId": "3cad0bda-e03f-4d34-c999-f2ca670ee1ef"
      },
      "execution_count": 91,
      "outputs": [
        {
          "output_type": "stream",
          "name": "stdout",
          "text": [
            "1/1 [==============================] - 1s 1s/step\n",
            "Prediction: 2547.576171875\n"
          ]
        }
      ]
    },
    {
      "cell_type": "code",
      "source": [
        "# Calculate Mean Absolute Error (MAE)\n",
        "mae = np.mean(np.abs(actual_prices - predicted_prices))\n",
        "\n",
        "# Calculate Mean Absolute Percentage Error (MAPE)\n",
        "mape = np.mean(np.abs((actual_prices - predicted_prices) / actual_prices)) * 100\n",
        "\n",
        "# Calculate accuracy as (100 - MAPE)\n",
        "accuracy = 100 - mape\n",
        "\n",
        "print(f\"Accuracy: {accuracy:.2f}%\")\n"
      ],
      "metadata": {
        "colab": {
          "base_uri": "https://localhost:8080/"
        },
        "id": "J29SzhtqMKnF",
        "outputId": "930a6357-bcad-48af-b3fe-e93a89782932"
      },
      "execution_count": 92,
      "outputs": [
        {
          "output_type": "stream",
          "name": "stdout",
          "text": [
            "Accuracy: 88.57%\n"
          ]
        }
      ]
    },
    {
      "cell_type": "code",
      "source": [
        "from sklearn.metrics import f1_score, recall_score, precision_score, roc_curve, auc\n",
        "\n",
        "# Assuming 'actual_prices' contains true labels (0 or 1 for price increase/decrease)\n",
        "# and 'predicted_prices' contains predicted probabilities\n",
        "predicted_labels = (predicted_prices > np.roll(predicted_prices, 1))[1:]  # Convert predictions to binary labels\n",
        "actual_labels = (actual_prices > np.roll(actual_prices, 1))[1:]\n",
        "\n",
        "f1 = f1_score(actual_labels, predicted_labels)\n",
        "recall = recall_score(actual_labels, predicted_labels)*100\n",
        "precision = precision_score(actual_labels, predicted_labels)\n",
        "\n",
        "print(f\"F1 Score: {f1}\")\n",
        "print(f\"Recall: {recall:.2f}%\")\n",
        "print(f\"Precision: {precision}\")"
      ],
      "metadata": {
        "colab": {
          "base_uri": "https://localhost:8080/"
        },
        "id": "2nsGfWbZMO1H",
        "outputId": "f8de7fe5-4c2f-415c-eaf7-bc2d251ad842"
      },
      "execution_count": 93,
      "outputs": [
        {
          "output_type": "stream",
          "name": "stdout",
          "text": [
            "F1 Score: 0.9148110316649642\n",
            "Recall: 90.61%\n",
            "Precision: 0.9236798679867987\n"
          ]
        }
      ]
    },
    {
      "cell_type": "code",
      "source": [
        "from sklearn.metrics import confusion_matrix\n",
        "import seaborn as sns\n",
        "\n",
        "# Assuming 'actual_labels' and 'predicted_labels' are defined as in the previous code\n",
        "cm = confusion_matrix(actual_labels, predicted_labels)\n",
        "\n",
        "# Plot the confusion matrix using Seaborn\n",
        "plt.figure(figsize=(8, 6))\n",
        "sns.heatmap(cm, annot=True, fmt=\"d\", cmap=\"Blues\")\n",
        "plt.title(\"Confusion Matrix\")\n",
        "plt.xlabel(\"Predicted Labels\")\n",
        "plt.ylabel(\"True Labels\")\n",
        "plt.show()\n"
      ],
      "metadata": {
        "colab": {
          "base_uri": "https://localhost:8080/",
          "height": 564
        },
        "id": "tAefT8zvMQEM",
        "outputId": "929e2266-49cf-40a3-fd80-5be278747dc7"
      },
      "execution_count": 94,
      "outputs": [
        {
          "output_type": "display_data",
          "data": {
            "text/plain": [
              "<Figure size 800x600 with 2 Axes>"
            ],
            "image/png": "[encoded data removed]"
          },
          "metadata": {}
        }
      ]
    }
  ]
}