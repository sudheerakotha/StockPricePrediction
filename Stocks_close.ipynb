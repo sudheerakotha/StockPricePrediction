{
  "cells": [
    {
      "cell_type": "markdown",
      "source": [
        "augmented reality navigation for the visually impaired\n",
        "ai powered mental health companion"
      ],
      "metadata": {
        "id": "qdlnxDODMvcZ"
      }
    },
    {
      "cell_type": "markdown",
      "source": [
        "**Importing Required Libraries**"
      ],
      "metadata": {
        "id": "1KUODz7oaTpi"
      }
    },
    {
      "cell_type": "code",
      "execution_count": 126,
      "metadata": {
        "id": "BwFmVJSHK35V"
      },
      "outputs": [],
      "source": [
        "import numpy as np\n",
        "import pandas as pd\n",
        "\n",
        "import os\n",
        "import matplotlib.pyplot as plt\n",
        "import pandas_datareader as web\n",
        "import datetime as dt\n",
        "\n",
        "from sklearn.preprocessing import MinMaxScaler\n",
        "from tensorflow.keras.models import Sequential\n",
        "from tensorflow.keras.layers import Dense, Dropout, LSTM\n",
        "from tensorflow.keras.callbacks import ModelCheckpoint, EarlyStopping"
      ]
    },
    {
      "cell_type": "markdown",
      "source": [
        "**Interplation of Data to 1 Hour**"
      ],
      "metadata": {
        "id": "tw4Q6HTHaZbh"
      }
    },
    {
      "cell_type": "code",
      "source": [
        "#Data interpolation\n",
        "\n",
        "import pandas as pd\n",
        "\n",
        "# Step 1: Read the input CSV file into a pandas DataFrame\n",
        "input_file = '/content/GOOG.csv'  # Replace with your actual input file path\n",
        "df = pd.read_csv(input_file)\n",
        "\n",
        "# Step 2: Convert 'date' column to datetime format if it's not already\n",
        "df['date'] = pd.to_datetime(df['date'])\n",
        "\n",
        "# Step 3: Set 'date' column as the index of the DataFrame (required for interpolation)\n",
        "df.set_index('date', inplace=True)\n",
        "\n",
        "# Step 4: Resample to 1-hour intervals and interpolate missing values\n",
        "df_interpolated = df.resample('1H').interpolate(method='linear')\n",
        "\n",
        "# Step 5: Reset index to convert 'date' back to a column\n",
        "df_interpolated.reset_index(inplace=True)\n",
        "\n",
        "# Step 6: Save the interpolated data to a new CSV file\n",
        "output_file = 'interpolated_data_1_hour.csv'  # Replace with your desired output file path\n",
        "df_interpolated.to_csv(output_file, index=False)\n",
        "\n",
        "print(f\"Interpolated data saved to {output_file}\")\n"
      ],
      "metadata": {
        "colab": {
          "base_uri": "https://localhost:8080/"
        },
        "id": "FIU_2ycEq9e1",
        "outputId": "7e3d04b8-acb0-4dd7-8a7a-0482ee47b0fd"
      },
      "execution_count": 127,
      "outputs": [
        {
          "output_type": "stream",
          "name": "stdout",
          "text": [
            "Interpolated data saved to interpolated_data_1_hour.csv\n"
          ]
        }
      ]
    },
    {
      "cell_type": "markdown",
      "source": [
        "**Reaing the Interpolated Data**"
      ],
      "metadata": {
        "id": "PDt6UxLpagb9"
      }
    },
    {
      "cell_type": "code",
      "source": [
        "df = pd.read_csv('/content/interpolated_data_1_hour.csv', parse_dates=['date'])\n",
        "print(df)"
      ],
      "metadata": {
        "colab": {
          "base_uri": "https://localhost:8080/"
        },
        "id": "zqOUX--AZ47y",
        "outputId": "42c6179b-a4ae-4c78-9638-2a5d5954ea4b"
      },
      "execution_count": 128,
      "outputs": [
        {
          "output_type": "stream",
          "name": "stdout",
          "text": [
            "                           date symbol        close         high          low  \\\n",
            "0     2016-06-14 00:00:00+00:00   GOOG   718.270000   722.470000   713.120000   \n",
            "1     2016-06-14 01:00:00+00:00    NaN   718.297083   722.491250   713.294583   \n",
            "2     2016-06-14 02:00:00+00:00    NaN   718.324167   722.512500   713.469167   \n",
            "3     2016-06-14 03:00:00+00:00    NaN   718.351250   722.533750   713.643750   \n",
            "4     2016-06-14 04:00:00+00:00    NaN   718.378333   722.555000   713.818333   \n",
            "...                         ...    ...          ...          ...          ...   \n",
            "43748 2021-06-10 20:00:00+00:00    NaN  2515.208333  2526.368333  2497.575000   \n",
            "43749 2021-06-10 21:00:00+00:00    NaN  2514.888750  2526.523750  2497.753750   \n",
            "43750 2021-06-10 22:00:00+00:00    NaN  2514.569167  2526.679167  2497.932500   \n",
            "43751 2021-06-10 23:00:00+00:00    NaN  2514.249583  2526.834583  2498.111250   \n",
            "43752 2021-06-11 00:00:00+00:00   GOOG  2513.930000  2526.990000  2498.290000   \n",
            "\n",
            "              open     volume     adjClose      adjHigh       adjLow  \\\n",
            "0       716.480000  1306065.0   718.270000   722.470000   713.120000   \n",
            "1       716.585000  1302250.5   718.297083   722.491250   713.294583   \n",
            "2       716.690000  1298436.0   718.324167   722.512500   713.469167   \n",
            "3       716.795000  1294621.5   718.351250   722.533750   713.643750   \n",
            "4       716.900000  1290807.0   718.378333   722.555000   713.818333   \n",
            "...            ...        ...          ...          ...          ...   \n",
            "43748  2519.768333  1312213.0  2515.208333  2526.368333  2497.575000   \n",
            "43749  2521.056250  1299737.0  2514.888750  2526.523750  2497.753750   \n",
            "43750  2522.344167  1287261.0  2514.569167  2526.679167  2497.932500   \n",
            "43751  2523.632083  1274785.0  2514.249583  2526.834583  2498.111250   \n",
            "43752  2524.920000  1262309.0  2513.930000  2526.990000  2498.290000   \n",
            "\n",
            "           adjOpen  adjVolume  divCash  splitFactor  \n",
            "0       716.480000  1306065.0      0.0          1.0  \n",
            "1       716.585000  1302250.5      0.0          1.0  \n",
            "2       716.690000  1298436.0      0.0          1.0  \n",
            "3       716.795000  1294621.5      0.0          1.0  \n",
            "4       716.900000  1290807.0      0.0          1.0  \n",
            "...            ...        ...      ...          ...  \n",
            "43748  2519.768333  1312213.0      0.0          1.0  \n",
            "43749  2521.056250  1299737.0      0.0          1.0  \n",
            "43750  2522.344167  1287261.0      0.0          1.0  \n",
            "43751  2523.632083  1274785.0      0.0          1.0  \n",
            "43752  2524.920000  1262309.0      0.0          1.0  \n",
            "\n",
            "[43753 rows x 14 columns]\n"
          ]
        }
      ]
    },
    {
      "cell_type": "markdown",
      "source": [
        "**Defining x_test and y_test**"
      ],
      "metadata": {
        "id": "iLZItOl2aksG"
      }
    },
    {
      "cell_type": "code",
      "source": [
        "test_data = scaled_data[-prediction_days:]  # Take the last 'prediction_days' as test data\n",
        "x_test = []\n",
        "y_test = []\n",
        "\n",
        "# Iterate over the test data correctly\n",
        "for x in range(prediction_days, len(scaled_data)):\n",
        "    x_test.append(scaled_data[x-prediction_days:x, :])\n",
        "    y_test.append(scaled_data[x, :])"
      ],
      "metadata": {
        "id": "vqzJPzuOUnLO"
      },
      "execution_count": 129,
      "outputs": []
    },
    {
      "cell_type": "markdown",
      "source": [
        "**Localising Time**"
      ],
      "metadata": {
        "id": "gtUTSURGaw8s"
      }
    },
    {
      "cell_type": "code",
      "execution_count": 130,
      "metadata": {
        "id": "1-08soprLUsD"
      },
      "outputs": [],
      "source": [
        "def load_data(company, start, end):\n",
        "\n",
        "    dataframe = df.copy()\n",
        "    if 'Symbol' in dataframe.columns:\n",
        "        dataframe = dataframe.loc[dataframe.Symbol == company, :]\n",
        "    else:\n",
        "        print(\"Warning: 'Symbol' column not found in DataFrame. Returning the entire DataFrame.\")\n",
        "    # The following line caused the error, it's been commented out\n",
        "    # dataframe = dataframe.loc[dataframe.Name == company, :]\n",
        "    # Convert start and end to timezone-aware datetime objects, assuming 'date' column is in UTC\n",
        "    start = pd.Timestamp(start).tz_localize('UTC')\n",
        "    end = pd.Timestamp(end).tz_localize('UTC')\n",
        "    dataframe = dataframe.loc[(dataframe['date'] > start) & (dataframe['date'] < end), :]\n",
        "    dataframe = dataframe.rename(columns = {'Closing_Price': 'close'})\n",
        "    return dataframe"
      ]
    },
    {
      "cell_type": "markdown",
      "source": [
        "**Localising Time**"
      ],
      "metadata": {
        "id": "9k--N1DwbSIy"
      }
    },
    {
      "cell_type": "code",
      "execution_count": 131,
      "metadata": {
        "id": "td2U4uboLdWM",
        "colab": {
          "base_uri": "https://localhost:8080/"
        },
        "outputId": "9dbace82-597b-457c-c306-491d7eaf3a32"
      },
      "outputs": [
        {
          "output_type": "stream",
          "name": "stdout",
          "text": [
            "                       date symbol       close       high         low  \\\n",
            "0 2016-06-14 00:00:00+00:00   GOOG  718.270000  722.47000  713.120000   \n",
            "1 2016-06-14 01:00:00+00:00    NaN  718.297083  722.49125  713.294583   \n",
            "2 2016-06-14 02:00:00+00:00    NaN  718.324167  722.51250  713.469167   \n",
            "3 2016-06-14 03:00:00+00:00    NaN  718.351250  722.53375  713.643750   \n",
            "4 2016-06-14 04:00:00+00:00    NaN  718.378333  722.55500  713.818333   \n",
            "\n",
            "      open     volume    adjClose    adjHigh      adjLow  adjOpen  adjVolume  \\\n",
            "0  716.480  1306065.0  718.270000  722.47000  713.120000  716.480  1306065.0   \n",
            "1  716.585  1302250.5  718.297083  722.49125  713.294583  716.585  1302250.5   \n",
            "2  716.690  1298436.0  718.324167  722.51250  713.469167  716.690  1298436.0   \n",
            "3  716.795  1294621.5  718.351250  722.53375  713.643750  716.795  1294621.5   \n",
            "4  716.900  1290807.0  718.378333  722.55500  713.818333  716.900  1290807.0   \n",
            "\n",
            "   divCash  splitFactor  \n",
            "0      0.0          1.0  \n",
            "1      0.0          1.0  \n",
            "2      0.0          1.0  \n",
            "3      0.0          1.0  \n",
            "4      0.0          1.0  \n"
          ]
        }
      ],
      "source": [
        "import pandas as pd\n",
        "import datetime as dt\n",
        "\n",
        "def load_data(company, start, end):\n",
        "    # Load the data\n",
        "    dataframe = pd.read_csv('/content/interpolated_data_1_hour.csv') # Verify this file path\n",
        "\n",
        "    # Check if 'date' column exists and is in datetime format\n",
        "    if 'date' in dataframe.columns:\n",
        "        dataframe['date'] = pd.to_datetime(dataframe['date'])\n",
        "    else:\n",
        "        print(\"Error: 'date' column not found in DataFrame.\")\n",
        "        return None  # Handle the error appropriately\n",
        "\n",
        "    # Filter data based on start and end dates\n",
        "    start = pd.Timestamp(start).tz_localize('UTC')\n",
        "    end = pd.Timestamp(end).tz_localize('UTC')\n",
        "    dataframe = dataframe.loc[(dataframe['date'] > start) & (dataframe['date'] < end), :]\n",
        "\n",
        "    # Rename 'Closing_Price' column to 'close' if it exists\n",
        "    if 'Closing_Price' in dataframe.columns:\n",
        "        dataframe = dataframe.rename(columns = {'Closing_Price': 'close'})\n",
        "\n",
        "    return dataframe\n",
        "\n",
        "COMPANY = 'GOOG'\n",
        "START_DATE = dt.datetime(2016,1,1,0,0)\n",
        "END_DATE = dt.datetime(2021,1,1,0,0)\n",
        "\n",
        "START_DATE_TEST = END_DATE\n",
        "data = load_data(company = COMPANY,\n",
        "                 start = START_DATE,\n",
        "                 end = END_DATE)\n",
        "\n",
        "print(data.head()) # Print the first few rows to verify data"
      ]
    },
    {
      "cell_type": "markdown",
      "source": [
        "**Normaliszing Data and Initializing x_train and y_train**"
      ],
      "metadata": {
        "id": "o16Mv9o2babT"
      }
    },
    {
      "cell_type": "code",
      "source": [
        "# Normalize data\n",
        "scaler = MinMaxScaler(feature_range=(0,1))\n",
        "scaled_data = scaler.fit_transform(data['close'].values.reshape(-1,1))\n",
        "\n",
        "# Set the number of days used for prediction\n",
        "prediction_days = 60\n",
        "\n",
        "# Initialize empty lists for training data input and output\n",
        "x_train = []\n",
        "y_train = []\n",
        "\n",
        "# Iterate through the scaled data, starting from the prediction_days index\n",
        "# NOTE: The original code started iterating at index 'prediction_days',\n",
        "# which might have skipped some initial data points if 'prediction_days'\n",
        "# was larger than the initial available data. Start from 0 instead.\n",
        "for x in range(0, len(scaled_data) - prediction_days):\n",
        "    # Append the previous 'prediction_days' values to x_train\n",
        "    x_train.append(scaled_data[x : x + prediction_days, 0])\n",
        "    # Append the current value to y_train\n",
        "    y_train.append(scaled_data[x + prediction_days, 0])\n",
        "\n",
        "# Convert the x_train and y_train lists to numpy arrays\n",
        "x_train, y_train = np.array(x_train), np.array(y_train)\n",
        "\n",
        "# Reshape x_train to a 3D array with the appropriate dimensions for the LSTM model\n",
        "x_train = np.reshape(x_train, (x_train.shape[0], x_train.shape[1], 1))\n",
        "\n",
        "# Verify the shapes of the training data\n",
        "print(\"Shape of x_train:\", x_train.shape)\n",
        "print(\"Shape of y_train:\", y_train.shape)"
      ],
      "metadata": {
        "colab": {
          "base_uri": "https://localhost:8080/"
        },
        "id": "bnWcFp96VZIF",
        "outputId": "1283ad59-3108-469e-8e68-fbdd78c0e217"
      },
      "execution_count": 132,
      "outputs": [
        {
          "output_type": "stream",
          "name": "stdout",
          "text": [
            "Shape of x_train: (39828, 60, 1)\n",
            "Shape of y_train: (39828,)\n"
          ]
        }
      ]
    },
    {
      "cell_type": "markdown",
      "source": [
        "**Defining LSTM Model**"
      ],
      "metadata": {
        "id": "s-FEqW4FblsM"
      }
    },
    {
      "cell_type": "code",
      "execution_count": 133,
      "metadata": {
        "id": "ue_IsB4iL0kS"
      },
      "outputs": [],
      "source": [
        "from keras.models import Sequential\n",
        "from keras.layers import LSTM, Dense, BatchNormalization\n",
        "from keras.regularizers import L2\n",
        "\n",
        "def LSTM_model():\n",
        "    \"\"\"\n",
        "    Create and configure an LSTM model for stock price prediction.\n",
        "\n",
        "    :return: The configured LSTM model (keras.Sequential)\n",
        "    \"\"\"\n",
        "\n",
        "    # Initialize a sequential model\n",
        "    model = Sequential()\n",
        "\n",
        "    # Add the first LSTM layer with 50 units, input shape, return sequences, and L2 regularization\n",
        "    model.add(LSTM(units=50, return_sequences=True, input_shape=(x_train.shape[1], 1), kernel_regularizer=L2(0.01)))\n",
        "    model.add(BatchNormalization())\n",
        "\n",
        "    # Add a second LSTM layer with 50 units, return sequences, and L2 regularization\n",
        "    model.add(LSTM(units=50, return_sequences=True, kernel_regularizer=L2(0.01)))\n",
        "    model.add(BatchNormalization())\n",
        "\n",
        "    # Add a third LSTM layer with 50 units and L2 regularization\n",
        "    model.add(LSTM(units=50, kernel_regularizer=L2(0.01)))\n",
        "    model.add(BatchNormalization())\n",
        "\n",
        "    # Add a dense output layer with one unit\n",
        "    model.add(Dense(units=1))\n",
        "\n",
        "    return model"
      ]
    },
    {
      "cell_type": "code",
      "execution_count": 134,
      "metadata": {
        "colab": {
          "base_uri": "https://localhost:8080/"
        },
        "id": "Ci1tLFI0Moiy",
        "outputId": "dd9791e9-f922-40ae-c0bf-f10c1b77f983"
      },
      "outputs": [
        {
          "output_type": "stream",
          "name": "stdout",
          "text": [
            "Model: \"sequential_7\"\n",
            "_________________________________________________________________\n",
            " Layer (type)                Output Shape              Param #   \n",
            "=================================================================\n",
            " lstm_21 (LSTM)              (None, 60, 50)            10400     \n",
            "                                                                 \n",
            " batch_normalization_21 (Ba  (None, 60, 50)            200       \n",
            " tchNormalization)                                               \n",
            "                                                                 \n",
            " lstm_22 (LSTM)              (None, 60, 50)            20200     \n",
            "                                                                 \n",
            " batch_normalization_22 (Ba  (None, 60, 50)            200       \n",
            " tchNormalization)                                               \n",
            "                                                                 \n",
            " lstm_23 (LSTM)              (None, 50)                20200     \n",
            "                                                                 \n",
            " batch_normalization_23 (Ba  (None, 50)                200       \n",
            " tchNormalization)                                               \n",
            "                                                                 \n",
            " dense_7 (Dense)             (None, 1)                 51        \n",
            "                                                                 \n",
            "=================================================================\n",
            "Total params: 51451 (200.98 KB)\n",
            "Trainable params: 51151 (199.81 KB)\n",
            "Non-trainable params: 300 (1.17 KB)\n",
            "_________________________________________________________________\n"
          ]
        }
      ],
      "source": [
        "model = LSTM_model()\n",
        "model.summary()\n",
        "model.compile(\n",
        "    optimizer='adam',\n",
        "    loss='mean_squared_error'\n",
        ")"
      ]
    },
    {
      "cell_type": "markdown",
      "source": [
        "**Callbacks**"
      ],
      "metadata": {
        "id": "KPPE4PbUbssd"
      }
    },
    {
      "cell_type": "code",
      "execution_count": 135,
      "metadata": {
        "colab": {
          "base_uri": "https://localhost:8080/"
        },
        "id": "qb5kU9WdMxB6",
        "outputId": "953d8f24-40ad-4c8f-b2b9-1d483b6087c7"
      },
      "outputs": [
        {
          "metadata": {
            "tags": null
          },
          "name": "stdout",
          "output_type": "stream",
          "text": [
            "Epoch 1/10\n",
            "1245/1245 [==============================] - ETA: 0s - loss: 0.3803"
          ]
        },
        {
          "metadata": {
            "tags": null
          },
          "name": "stderr",
          "output_type": "stream",
          "text": [
            "WARNING:tensorflow:Can save best model only with val_loss available, skipping.\n"
          ]
        },
        {
          "metadata": {
            "tags": null
          },
          "name": "stdout",
          "output_type": "stream",
          "text": [
            "1245/1245 [==============================] - 122s 90ms/step - loss: 0.3803\n",
            "Epoch 2/10\n",
            "1245/1245 [==============================] - ETA: 0s - loss: 0.0300"
          ]
        },
        {
          "metadata": {
            "tags": null
          },
          "name": "stderr",
          "output_type": "stream",
          "text": [
            "WARNING:tensorflow:Can save best model only with val_loss available, skipping.\n"
          ]
        },
        {
          "metadata": {
            "tags": null
          },
          "name": "stdout",
          "output_type": "stream",
          "text": [
            "1245/1245 [==============================] - 116s 93ms/step - loss: 0.0300\n",
            "Epoch 3/10\n",
            "1245/1245 [==============================] - ETA: 0s - loss: 0.0081"
          ]
        },
        {
          "metadata": {
            "tags": null
          },
          "name": "stderr",
          "output_type": "stream",
          "text": [
            "WARNING:tensorflow:Can save best model only with val_loss available, skipping.\n"
          ]
        },
        {
          "metadata": {
            "tags": null
          },
          "name": "stdout",
          "output_type": "stream",
          "text": [
            "1245/1245 [==============================] - 113s 91ms/step - loss: 0.0081\n",
            "Epoch 4/10\n",
            "1245/1245 [==============================] - ETA: 0s - loss: 0.0037"
          ]
        },
        {
          "metadata": {
            "tags": null
          },
          "name": "stderr",
          "output_type": "stream",
          "text": [
            "WARNING:tensorflow:Can save best model only with val_loss available, skipping.\n"
          ]
        },
        {
          "metadata": {
            "tags": null
          },
          "name": "stdout",
          "output_type": "stream",
          "text": [
            "1245/1245 [==============================] - 117s 94ms/step - loss: 0.0037\n",
            "Epoch 5/10\n",
            "1245/1245 [==============================] - ETA: 0s - loss: 0.0023"
          ]
        },
        {
          "metadata": {
            "tags": null
          },
          "name": "stderr",
          "output_type": "stream",
          "text": [
            "WARNING:tensorflow:Can save best model only with val_loss available, skipping.\n"
          ]
        },
        {
          "metadata": {
            "tags": null
          },
          "name": "stdout",
          "output_type": "stream",
          "text": [
            "1245/1245 [==============================] - 114s 91ms/step - loss: 0.0023\n",
            "Epoch 6/10\n",
            "1245/1245 [==============================] - ETA: 0s - loss: 0.0024"
          ]
        },
        {
          "metadata": {
            "tags": null
          },
          "name": "stderr",
          "output_type": "stream",
          "text": [
            "WARNING:tensorflow:Can save best model only with val_loss available, skipping.\n"
          ]
        },
        {
          "metadata": {
            "tags": null
          },
          "name": "stdout",
          "output_type": "stream",
          "text": [
            "1245/1245 [==============================] - 114s 91ms/step - loss: 0.0024\n",
            "Epoch 7/10\n",
            "1245/1245 [==============================] - ETA: 0s - loss: 0.0020"
          ]
        },
        {
          "metadata": {
            "tags": null
          },
          "name": "stderr",
          "output_type": "stream",
          "text": [
            "WARNING:tensorflow:Can save best model only with val_loss available, skipping.\n"
          ]
        },
        {
          "metadata": {
            "tags": null
          },
          "name": "stdout",
          "output_type": "stream",
          "text": [
            "1245/1245 [==============================] - 119s 96ms/step - loss: 0.0020\n",
            "Epoch 8/10\n",
            "1245/1245 [==============================] - ETA: 0s - loss: 0.0326"
          ]
        },
        {
          "metadata": {
            "tags": null
          },
          "name": "stderr",
          "output_type": "stream",
          "text": [
            "WARNING:tensorflow:Can save best model only with val_loss available, skipping.\n"
          ]
        },
        {
          "output_type": "stream",
          "name": "stdout",
          "text": [
            "1245/1245 [==============================] - 114s 92ms/step - loss: 0.0326\n",
            "Epoch 9/10\n",
            "1245/1245 [==============================] - ETA: 0s - loss: 0.0084"
          ]
        },
        {
          "output_type": "stream",
          "name": "stderr",
          "text": [
            "WARNING:tensorflow:Can save best model only with val_loss available, skipping.\n"
          ]
        },
        {
          "output_type": "stream",
          "name": "stdout",
          "text": [
            "\b\b\b\b\b\b\b\b\b\b\b\b\b\b\b\b\b\b\b\b\b\b\b\b\b\b\b\b\b\b\b\b\b\b\b\b\b\b\b\b\b\b\b\b\b\b\b\b\b\b\b\b\b\b\b\b\b\b\b\b\b\b\b\b\b\b\b\r1245/1245 [==============================] - 114s 91ms/step - loss: 0.0084\n",
            "Epoch 10/10\n",
            "1245/1245 [==============================] - ETA: 0s - loss: 0.0037"
          ]
        },
        {
          "output_type": "stream",
          "name": "stderr",
          "text": [
            "WARNING:tensorflow:Can save best model only with val_loss available, skipping.\n"
          ]
        },
        {
          "output_type": "stream",
          "name": "stdout",
          "text": [
            "\b\b\b\b\b\b\b\b\b\b\b\b\b\b\b\b\b\b\b\b\b\b\b\b\b\b\b\b\b\b\b\b\b\b\b\b\b\b\b\b\b\b\b\b\b\b\b\b\b\b\b\b\b\b\b\b\b\b\b\b\b\b\b\b\b\b\b\r1245/1245 [==============================] - 117s 94ms/step - loss: 0.0037\n"
          ]
        },
        {
          "output_type": "execute_result",
          "data": {
            "text/plain": [
              "<keras.src.callbacks.History at 0x7bd10ac325c0>"
            ]
          },
          "metadata": {},
          "execution_count": 135
        }
      ],
      "source": [
        "# Save weights only for best model\n",
        "checkpointer = ModelCheckpoint(\n",
        "    filepath = 'weights_best.hdf5',\n",
        "    verbose = 2,\n",
        "    save_best_only = True\n",
        ")\n",
        "\n",
        "model.fit(\n",
        "    x_train,\n",
        "    y_train,\n",
        "    epochs=10,\n",
        "    batch_size = 32,\n",
        "    callbacks = [checkpointer]\n",
        ")"
      ]
    },
    {
      "cell_type": "markdown",
      "source": [
        "**Loading Test Data**"
      ],
      "metadata": {
        "id": "xS71KWnXbzuW"
      }
    },
    {
      "cell_type": "code",
      "execution_count": 136,
      "metadata": {
        "id": "zVznyK0xPmsH"
      },
      "outputs": [],
      "source": [
        "test_data = load_data(\n",
        "    company=COMPANY,\n",
        "    start=START_DATE_TEST,   # Load test data for the specified company and date range\n",
        "    end=dt.datetime.now()\n",
        ")\n",
        "\n",
        "actual_prices = test_data['close'].values\n",
        "\n",
        "total_dataset = pd.concat((data['close'], test_data['close']), axis=0)\n",
        "\n",
        "model_inputs = total_dataset[len(total_dataset) - len(test_data) - prediction_days:].values\n",
        "\n",
        "model_inputs = model_inputs.reshape(-1, 1)\n",
        "\n",
        "model_inputs = scaler.transform(model_inputs)"
      ]
    },
    {
      "cell_type": "code",
      "execution_count": 137,
      "metadata": {
        "colab": {
          "base_uri": "https://localhost:8080/"
        },
        "id": "m_s0Ci4mPmoz",
        "outputId": "74cff9c6-b92a-420d-c206-16e4de278a2d"
      },
      "outputs": [
        {
          "output_type": "stream",
          "name": "stdout",
          "text": [
            "121/121 [==============================] - 4s 25ms/step\n"
          ]
        }
      ],
      "source": [
        "x_test = []\n",
        "\n",
        "for x in range(prediction_days, len(model_inputs)):\n",
        "\n",
        "    x_test.append(model_inputs[x-prediction_days:x, 0])\n",
        "\n",
        "x_test = np.array(x_test)  # Converting the x_test list to a numpy array\n",
        "\n",
        "x_test = np.reshape(x_test, (x_test.shape[0], x_test.shape[1], 1))\n",
        "\n",
        "predicted_prices = model.predict(x_test)  # Generate price predictions using the LSTM model\n",
        "\n",
        "predicted_prices = scaler.inverse_transform(predicted_prices)"
      ]
    },
    {
      "cell_type": "markdown",
      "source": [
        "**Plotting Actual vs Predicted Price**"
      ],
      "metadata": {
        "id": "kYMynZNpb6c0"
      }
    },
    {
      "cell_type": "code",
      "execution_count": 138,
      "metadata": {
        "colab": {
          "base_uri": "https://localhost:8080/",
          "height": 472
        },
        "id": "d1pO_wxAPmlP",
        "outputId": "a8efcade-b96b-48d6-f324-49217967d8d9"
      },
      "outputs": [
        {
          "output_type": "display_data",
          "data": {
            "text/plain": [
              "<Figure size 640x480 with 1 Axes>"
            ],
            "image/png": "[encoded data removed]"
          },
          "metadata": {}
        }
      ],
      "source": [
        "plt.plot(actual_prices, color='black', label=f\"Actual {COMPANY} price\") #1\n",
        "\n",
        "plt.plot(predicted_prices, color='green', label=f\"Predicted {COMPANY} price\") #2\n",
        "\n",
        "plt.title(f\"{COMPANY} share price\")\n",
        "plt.xlabel(\"time\")                    #3\n",
        "plt.ylabel(f\"{COMPANY} share price\")\n",
        "\n",
        "plt.legend()    #4\n",
        "plt.show()"
      ]
    },
    {
      "cell_type": "markdown",
      "source": [
        "**Reshaping the Data and Predicting the Share Price**"
      ],
      "metadata": {
        "id": "0dOgzwwpcFqm"
      }
    },
    {
      "cell_type": "code",
      "execution_count": 139,
      "metadata": {
        "colab": {
          "base_uri": "https://localhost:8080/"
        },
        "id": "2hhOvFOEPlxT",
        "outputId": "07bb8acf-655c-44e3-fc6e-96941cb40bec"
      },
      "outputs": [
        {
          "output_type": "stream",
          "name": "stdout",
          "text": [
            "1/1 [==============================] - 1s 1s/step\n",
            "Prediction: 2015.284423828125\n"
          ]
        }
      ],
      "source": [
        "# Extract the last 'prediction_days' values from the model inputs\n",
        "real_data = [model_inputs[len(model_inputs) + 1 - prediction_days:len(model_inputs + 1), 0]]\n",
        "\n",
        "# Convert the real_data list to a numpy array\n",
        "real_data = np.array(real_data)\n",
        "\n",
        "# Reshape real_data to a 3D array with the appropriate dimensions for the LSTM model\n",
        "real_data = np.reshape(real_data, (real_data.shape[0], real_data.shape[1], 1))\n",
        "\n",
        "# Generate a prediction using the LSTM model with the real_data input\n",
        "prediction = model.predict(real_data)\n",
        "\n",
        "# Invert the scaling applied to the prediction to obtain the actual value\n",
        "prediction = scaler.inverse_transform(prediction)\n",
        "\n",
        "# Print the prediction result to the console\n",
        "print(f\"Prediction: {prediction[0][0]}\")"
      ]
    },
    {
      "cell_type": "markdown",
      "source": [
        "**Calculating MAE, MAPE, Accuracy**"
      ],
      "metadata": {
        "id": "KekQHcxDcO8l"
      }
    },
    {
      "cell_type": "code",
      "execution_count": 140,
      "metadata": {
        "colab": {
          "base_uri": "https://localhost:8080/"
        },
        "id": "NgfyTEXQPlry",
        "outputId": "45b69f37-64dd-4022-a744-2c5ba686c846"
      },
      "outputs": [
        {
          "output_type": "stream",
          "name": "stdout",
          "text": [
            "Accuracy: 85.59%\n"
          ]
        }
      ],
      "source": [
        "# Calculate Mean Absolute Error (MAE)\n",
        "mae = np.mean(np.abs(actual_prices - predicted_prices))\n",
        "\n",
        "# Calculate Mean Absolute Percentage Error (MAPE)\n",
        "mape = np.mean(np.abs((actual_prices - predicted_prices) / actual_prices)) * 100\n",
        "\n",
        "# Calculate accuracy as (100 - MAPE)\n",
        "accuracy = 100 - mape\n",
        "\n",
        "print(f\"Accuracy: {accuracy:.2f}%\")\n"
      ]
    },
    {
      "cell_type": "markdown",
      "source": [
        "**Performance Metrics**"
      ],
      "metadata": {
        "id": "ceNvWB7TcUYA"
      }
    },
    {
      "cell_type": "code",
      "source": [
        "from sklearn.metrics import f1_score, recall_score, precision_score, roc_curve, auc\n",
        "\n",
        "# Assuming 'actual_prices' contains true labels (0 or 1 for price increase/decrease)\n",
        "# and 'predicted_prices' contains predicted probabilities\n",
        "predicted_labels = (predicted_prices > np.roll(predicted_prices, 1))[1:]  # Convert predictions to binary labels\n",
        "actual_labels = (actual_prices > np.roll(actual_prices, 1))[1:]\n",
        "\n",
        "f1 = f1_score(actual_labels, predicted_labels)\n",
        "recall = recall_score(actual_labels, predicted_labels)*100\n",
        "precision = precision_score(actual_labels, predicted_labels)\n",
        "\n",
        "print(f\"F1 Score: {f1}\")\n",
        "print(f\"Recall: {recall:.2f}%\")\n",
        "print(f\"Precision: {precision}\")"
      ],
      "metadata": {
        "colab": {
          "base_uri": "https://localhost:8080/"
        },
        "id": "w4JkuNHPz-KH",
        "outputId": "aa474f47-c431-40fd-e304-79a59ce3dddf"
      },
      "execution_count": 110,
      "outputs": [
        {
          "output_type": "stream",
          "name": "stdout",
          "text": [
            "F1 Score: 0.8838821490467937\n",
            "Recall: 89.47%\n",
            "Precision: 0.8732876712328768\n"
          ]
        }
      ]
    },
    {
      "cell_type": "markdown",
      "source": [
        "**Confusion Matrix**"
      ],
      "metadata": {
        "id": "-410NJ3TcbCv"
      }
    },
    {
      "cell_type": "code",
      "source": [
        "from sklearn.metrics import confusion_matrix\n",
        "import seaborn as sns\n",
        "\n",
        "# Assuming 'actual_labels' and 'predicted_labels' are defined as in the previous code\n",
        "cm = confusion_matrix(actual_labels, predicted_labels)\n",
        "\n",
        "# Plot the confusion matrix using Seaborn\n",
        "plt.figure(figsize=(8, 6))\n",
        "sns.heatmap(cm, annot=True, fmt=\"d\", cmap=\"Blues\")\n",
        "plt.title(\"Confusion Matrix\")\n",
        "plt.xlabel(\"Predicted Labels\")\n",
        "plt.ylabel(\"True Labels\")\n",
        "plt.show()\n"
      ],
      "metadata": {
        "colab": {
          "base_uri": "https://localhost:8080/",
          "height": 564
        },
        "id": "doF5hmde1i1t",
        "outputId": "38281ac6-ed7d-4038-9bbc-4093a7099e54"
      },
      "execution_count": 84,
      "outputs": [
        {
          "output_type": "display_data",
          "data": {
            "text/plain": [
              "<Figure size 800x600 with 2 Axes>"
            ],
            "image/png": "[encoded data removed]"
          },
          "metadata": {}
        }
      ]
    }
  ],
  "metadata": {
    "colab": {
      "provenance": []
    },
    "kernelspec": {
      "display_name": "Python 3",
      "name": "python3"
    },
    "language_info": {
      "name": "python"
    }
  },
  "nbformat": 4,
  "nbformat_minor": 0
}